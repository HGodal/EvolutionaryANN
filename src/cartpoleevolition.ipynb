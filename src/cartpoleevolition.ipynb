{
 "metadata": {
  "language_info": {
   "codemirror_mode": {
    "name": "ipython",
    "version": 3
   },
   "file_extension": ".py",
   "mimetype": "text/x-python",
   "name": "python",
   "nbconvert_exporter": "python",
   "pygments_lexer": "ipython3",
   "version": "3.8.5-final"
  },
  "orig_nbformat": 2,
  "kernelspec": {
   "name": "python3",
   "display_name": "Python 3.8.5 64-bit ('DAT540EANN': conda)",
   "metadata": {
    "interpreter": {
     "hash": "7a7fa415cf13344fdfad97efe73a264ec4178cf37d56d74201124c97bd1ad510"
    }
   }
  }
 },
 "nbformat": 4,
 "nbformat_minor": 2,
 "cells": [
  {
   "source": [
    "# Demonstration of the cartpoleevolution class\n",
    "\n",
    "## Import cartpoleevolution"
   ],
   "cell_type": "markdown",
   "metadata": {}
  },
  {
   "cell_type": "code",
   "execution_count": null,
   "metadata": {},
   "outputs": [],
   "source": [
    "from cartpoleevolution import cartpoleevolution\n",
    "\n",
    "sim = cartpoleevolution()"
   ]
  },
  {
   "source": [
    "## Import other libraries"
   ],
   "cell_type": "markdown",
   "metadata": {}
  },
  {
   "cell_type": "code",
   "execution_count": null,
   "metadata": {},
   "outputs": [],
   "source": [
    "import pandas as pd \n",
    "import seaborn as sns\n",
    "import matplotlib.pyplot as plt\n",
    "\n",
    "# Global settings\n",
    "sns.set_style(\"darkgrid\")"
   ]
  },
  {
   "source": [
    "## Run the code and collect metrics"
   ],
   "cell_type": "markdown",
   "metadata": {}
  },
  {
   "cell_type": "code",
   "execution_count": null,
   "metadata": {},
   "outputs": [],
   "source": [
    "df = sim.simulate(generations=10, agents=50, max_episode_steps=500)"
   ]
  },
  {
   "source": [
    "### Display results"
   ],
   "cell_type": "markdown",
   "metadata": {}
  },
  {
   "cell_type": "code",
   "execution_count": null,
   "metadata": {},
   "outputs": [],
   "source": [
    "plt.figure(figsize=(16, 9))\n",
    "sns.boxplot(data=df)\n",
    "sns.swarmplot(data=df)"
   ]
  }
 ]
}